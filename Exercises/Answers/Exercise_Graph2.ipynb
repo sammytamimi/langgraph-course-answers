{
 "cells": [
  {
   "cell_type": "markdown",
   "id": "b29289ca",
   "metadata": {},
   "source": [
    "# Exercise 2"
   ]
  },
  {
   "cell_type": "code",
   "execution_count": 1,
   "id": "c722eefe",
   "metadata": {},
   "outputs": [],
   "source": [
    "from typing import TypedDict, List\n",
    "from langgraph.graph import StateGraph \n",
    "import math"
   ]
  },
  {
   "cell_type": "code",
   "execution_count": 6,
   "id": "0d68b884",
   "metadata": {},
   "outputs": [],
   "source": [
    "# Create a Graph where you pass in a single list of integers along with a name and an\n",
    "# operation. If the operation is a “+” , you add the elements and if it is a “*” , yOU\n",
    "# multiply the elements, all within the same node.\n",
    "\n",
    "# Input: {“name”: “Jack Sparrow”, “values”: [1,2,3,4] , “operation” : “*”}\n",
    "\n",
    "class AgentState(TypedDict):\n",
    "    name: str\n",
    "    values: List[int]\n",
    "    operation: str\n",
    "    result: str\n",
    "    \n",
    "    \n",
    "def main(state: AgentState) -> AgentState:\n",
    "    \"\"\"Node that takes user's name, a list of integers, and an operation. Use these attributes to perform\n",
    "    an operation on the list of integers \"\"\"\n",
    "    \n",
    "    answer = False\n",
    "    if state['operation'] == '*':\n",
    "        answer = math.prod(state['values'])\n",
    "    elif state['operation'] == '+':\n",
    "        answer = sum(state['values'])\n",
    "    else:\n",
    "        state['result'] = 'Invalid!'\n",
    "        \n",
    "    \n",
    "    state['result'] = f\"Hi {state['name']}, your answer is {answer} \"\n",
    "    \n",
    "    return state\n",
    "    \n",
    "    "
   ]
  },
  {
   "cell_type": "code",
   "execution_count": 7,
   "id": "5712d0ae",
   "metadata": {},
   "outputs": [],
   "source": [
    "graph = StateGraph(AgentState)\n",
    "\n",
    "graph.add_node(\"main\", main)\n",
    "\n",
    "graph.set_entry_point(\"main\")\n",
    "graph.set_finish_point(\"main\")\n",
    "\n",
    "app = graph.compile()\n"
   ]
  },
  {
   "cell_type": "code",
   "execution_count": null,
   "id": "92876360",
   "metadata": {},
   "outputs": [],
   "source": []
  },
  {
   "cell_type": "code",
   "execution_count": 8,
   "id": "64cf0919",
   "metadata": {},
   "outputs": [
    {
     "data": {
      "image/png": "[encoded data removed]",
      "text/plain": [
       "<IPython.core.display.Image object>"
      ]
     },
     "metadata": {},
     "output_type": "display_data"
    }
   ],
   "source": [
    "from IPython.display import Image, display\n",
    "display(Image(app.get_graph().draw_mermaid_png()))"
   ]
  },
  {
   "cell_type": "code",
   "execution_count": 17,
   "id": "5e13a67d",
   "metadata": {},
   "outputs": [],
   "source": [
    "answers = app.invoke({'name': 'John', 'values': [1,2,3,4], 'operation': '+'})"
   ]
  },
  {
   "cell_type": "code",
   "execution_count": 18,
   "id": "33fe85eb",
   "metadata": {},
   "outputs": [
    {
     "name": "stdout",
     "output_type": "stream",
     "text": [
      "Hi John, your answer is 10 \n"
     ]
    }
   ],
   "source": [
    "print(answers['result'])"
   ]
  },
  {
   "cell_type": "code",
   "execution_count": null,
   "id": "2a455bbf",
   "metadata": {},
   "outputs": [],
   "source": []
  }
 ],
 "metadata": {
  "kernelspec": {
   "display_name": ".venv",
   "language": "python",
   "name": "python3"
  },
  "language_info": {
   "codemirror_mode": {
    "name": "ipython",
    "version": 3
   },
   "file_extension": ".py",
   "mimetype": "text/x-python",
   "name": "python",
   "nbconvert_exporter": "python",
   "pygments_lexer": "ipython3",
   "version": "3.11.9"
  }
 },
 "nbformat": 4,
 "nbformat_minor": 5
}
